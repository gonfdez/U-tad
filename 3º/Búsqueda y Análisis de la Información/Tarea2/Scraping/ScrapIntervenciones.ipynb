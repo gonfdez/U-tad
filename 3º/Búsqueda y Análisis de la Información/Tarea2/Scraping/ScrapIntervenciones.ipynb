{
 "cells": [
  {
   "cell_type": "markdown",
   "metadata": {},
   "source": [
    "# Web Scraping para obtención de texto\n",
    "\n",
    "Vamos a captar información de la web del [Congreso de los Diputados](https://www.congreso.es/busqueda-de-intervenciones) para obtener las transcripciones de las intervenciones en la XIV legislatura (2019-Actualidad) de los siguientes representantes políticos:\n",
    "- Pedro Sánchez Pérez-Castejón (GS)\n",
    "- Santiago Abascal Conde (GV)\n",
    "- Pablo Casado Blanco (GP) "
   ]
  },
  {
   "cell_type": "markdown",
   "metadata": {},
   "source": [
    "## Procedimiento\n",
    "La página de las intervenciones del congreso permite filtrar en funcion de distintos campos, nosotros usaremos: \"Legislatura\" y \"Orador\". Además selecionaremos la opción \"Por orden cronológico\" para obtener las intervenciones de más actuales a más antigüas.\n",
    "\n",
    "Una vez tengamos cargada la información requerida, bastará con ir haciendo click en las salidas resultantes para llegar al texto de la intervención, el cual descargaremos en un .txt que luego procesaremos para obtener solo la información relevante."
   ]
  },
  {
   "cell_type": "code",
   "execution_count": 42,
   "metadata": {},
   "outputs": [],
   "source": [
    "# Requisitos\n",
    "# pip install selenium\n",
    "# pip install webdriver-manager\n",
    "\n",
    "# Librerias necesarias que utilizaremos\n",
    "import os\n",
    "import time\n",
    "from selenium import webdriver\n",
    "from selenium.webdriver.chrome.service import Service\n",
    "from webdriver_manager.chrome import ChromeDriverManager\n",
    "from selenium.webdriver.common.by import By\n",
    "from selenium.webdriver.support.ui import WebDriverWait\n",
    "from selenium.webdriver.support import expected_conditions as EC\n",
    "from selenium.webdriver.common.action_chains import ActionChains"
   ]
  },
  {
   "cell_type": "code",
   "execution_count": 43,
   "metadata": {},
   "outputs": [],
   "source": [
    "# Genero una variable donde voy a almacenar los plenos ya capturados con intención \n",
    "# de no duplicar información que ya esta recolectada\n",
    "plenosCapturados = []"
   ]
  },
  {
   "cell_type": "code",
   "execution_count": 44,
   "metadata": {},
   "outputs": [],
   "source": [
    "def obtenerIntervenciones(orador, dirPath, numPags):\n",
    "    \n",
    "    # Configuramos las opciones de chrome para que descargue los pdfs a los que accedamos\n",
    "    # directamente sin abrirlos y en la carpeta que deseamos\n",
    "    options = webdriver.ChromeOptions()\n",
    "    options.add_experimental_option('prefs', {\n",
    "    \"download.default_directory\": dirPath, # Cambiamos el directorio de las descargas\n",
    "    \"download.prompt_for_download\": False, \n",
    "    \"download.directory_upgrade\": True,\n",
    "    \"plugins.always_open_pdf_externally\": True \n",
    "    })\n",
    "\n",
    "    # Para mantener silenciado el webdriver_manager\n",
    "    os.environ['WDM_LOG'] = '0'\n",
    "    # Fácil instalación y despliegue del driver de \n",
    "    # Selenium gracias a https://pypi.org/project/webdriver-manager/ \n",
    "    # Generamos la instancia del driver de Chrome de Selenium para navegar\n",
    "    driver = webdriver.Chrome(service=Service(ChromeDriverManager().install()),options=options)\n",
    "    driver.implicitly_wait(10)\n",
    "    driver.maximize_window()\n",
    "    # Generamos una \"espera\", nos servirá para decirle al driver\n",
    "    # que espere hasta una condición antes de actuar u obtener \n",
    "    # información de la página\n",
    "    wait = WebDriverWait(driver,10)\n",
    "\n",
    "    ### Comienzo del proceso de scrapeo\n",
    "\n",
    "    # Vamos a la web del congreso\n",
    "    driver.get('https://www.congreso.es/busqueda-de-intervenciones')\n",
    "    # Aceptamos las dichosas cookies (Hasta en la web del congreso venden tus datos)\n",
    "    # El driver esperara a poder clickar el elemento seleccionado (Aceptar cookies)\n",
    "    wait.until(EC.element_to_be_clickable((By.XPATH, '//*[@id=\"banda_cookies\"]/a[1]'))).click()\n",
    "\n",
    "    ## Rellenamos los campos del filtro\n",
    "    # La legislatura actual está seleccionada por defecto, lo cual nos viene perfecto.\n",
    "    # Solo tenemos que introducir el orador, darle al botón buscar. Esperar que cargue\n",
    "    # y presionar el botón 'Por orden cronologico'\n",
    "    # Despues vamos clicando en las distintas intervenciones, que sean de distintos plenos, para descargar sus pdfs\n",
    "\n",
    "    # Ubicamos y rellenamos el input del orador\n",
    "    inputOrador = wait.until(EC.element_to_be_clickable((By.XPATH, '//*[@id=\"_intervenciones_orador\"]')))\n",
    "    inputOrador.clear()\n",
    "    inputOrador.send_keys(orador)\n",
    "    # Click en 'Buscar'\n",
    "    wait.until(EC.element_to_be_clickable((By.XPATH, '/html/body/div[3]/div[2]/div[1]/div[2]/section/div/div[2]/div[2]/div/div/section/div/div[2]/div/div[1]/div/div/div/div/div/div[2]/div/div[3]/button[1]'))).click()\n",
    "    # Esperamos 2 segundos a que cargue la información correctamente\n",
    "    time.sleep(2)\n",
    "    # Click en 'Por orden cronologico'\n",
    "    wait.until(EC.element_to_be_clickable((By.XPATH, '//*[@id=\"num\"]'))).click()\n",
    "\n",
    "    # Ya tenemos la lista de intervenciones cargada. Hacemos scroll\n",
    "    # hasta el pie de pagina para asegurarnos que el driver carga todo el html (Solo la primera vez)\n",
    "    time.sleep(1)\n",
    "    driver.execute_script(\"window.scrollTo(0, document.body.scrollHeight);\")\n",
    "    time.sleep(1)\n",
    "    driver.execute_script(\"window.scrollTo(0, 100);\")\n",
    "    \n",
    "    while numPags > 0:\n",
    "        # Ahora localizamos el elemento HTML que contiene\n",
    "        # todos los elementos que no interesan\n",
    "        contenedor = driver.find_element(By.XPATH, '//*[@id=\"_intervenciones_contentPaginationIntervenciones\"]' )\n",
    "\n",
    "        # Todas las intervenciones tienen 'Pleno' en el que se dieron y posteriormente\n",
    "        # una tabla con más información sobre las intervenciónes y el botón\n",
    "        # para abrir el pdf del pleno.\n",
    "        plenos = contenedor.find_elements(By.CLASS_NAME, 'pleno')\n",
    "        tables = contenedor.find_elements(By.TAG_NAME, 'tbody')\n",
    "        cajasIntervenciones = []\n",
    "\n",
    "        # Se comprueba si el pleno en cuestión ha sido descargado\n",
    "        # Si no esta descargado se captura y se añade a la lista\n",
    "        # plenosCapturados\n",
    "        for i,t in enumerate(tables):\n",
    "            if plenos[i].text not in plenosCapturados:\n",
    "                plenosCapturados.append(plenos[i].text)\n",
    "                cajasIntervenciones.append(t.find_elements(By.TAG_NAME, 'tr')[0])\n",
    "            \n",
    "        # Bucle que recorre los elementos donde están las\n",
    "        # intervenciones y los clicka para descargar sus respectivos pdfs\n",
    "        for i in cajasIntervenciones:\n",
    "            if (i.text != ''):\n",
    "                driver.execute_script(\"arguments[0].scrollIntoView();\", i)\n",
    "                time.sleep(2)\n",
    "                elems = i.find_elements(By.TAG_NAME, 'i')\n",
    "                elems[3].click()\n",
    "            else:\n",
    "                continue    \n",
    "        \n",
    "        # Pasamos de pagina\n",
    "        driver.execute_script(\"window.scrollTo(0, document.body.scrollHeight);\")\n",
    "        driver.find_element(By.XPATH, '//*[@id=\"_intervenciones_paginationLinksFooterIntervenciones\"]/li[8]/a').click()\n",
    "        time.sleep(2)\n",
    "        numPags-=1\n",
    "\n",
    "\n",
    "    # Matamos el proceso de ejecución del driver (Cerramos el Chrome)\n",
    "    driver.quit()   "
   ]
  },
  {
   "cell_type": "code",
   "execution_count": 45,
   "metadata": {},
   "outputs": [
    {
     "data": {
      "text/plain": [
       "62"
      ]
     },
     "execution_count": 45,
     "metadata": {},
     "output_type": "execute_result"
    }
   ],
   "source": [
    "obtenerIntervenciones('Sánchez Pérez-Castejón, Pedro', 'C:\\\\Users\\\\gonef\\\\Desktop\\\\Plenos', 5 )\n",
    "obtenerIntervenciones('Abascal Conde, Santiago', 'C:\\\\Users\\\\gonef\\\\Desktop\\\\Plenos', 5 )\n",
    "obtenerIntervenciones('Casado Blanco, Pablo', 'C:\\\\Users\\\\gonef\\\\Desktop\\\\Plenos', 5 )\n",
    "len(plenosCapturados)"
   ]
  },
  {
   "cell_type": "code",
   "execution_count": null,
   "metadata": {},
   "outputs": [],
   "source": [
    "# Obtenemos un total de 62 pdfs de distintos plenos en la carpeta 'C:\\\\Users\\\\gonef\\\\Desktop\\\\Plenos'"
   ]
  }
 ],
 "metadata": {
  "interpreter": {
   "hash": "a3defc45e60c961330da68da0fdb21d369ab0a1cdb350a501fbbed3790d093d0"
  },
  "kernelspec": {
   "display_name": "Python 3.10.4 64-bit (windows store)",
   "language": "python",
   "name": "python3"
  },
  "language_info": {
   "codemirror_mode": {
    "name": "ipython",
    "version": 3
   },
   "file_extension": ".py",
   "mimetype": "text/x-python",
   "name": "python",
   "nbconvert_exporter": "python",
   "pygments_lexer": "ipython3",
   "version": "3.10.4"
  },
  "orig_nbformat": 4
 },
 "nbformat": 4,
 "nbformat_minor": 2
}
